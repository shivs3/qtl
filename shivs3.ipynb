{
 "cells": [
  {
   "cell_type": "code",
   "execution_count": null,
   "metadata": {
    "_cell_guid": "b1076dfc-b9ad-4769-8c92-a6c4dae69d19",
    "_uuid": "8f2839f25d086af736a60e9eeb907d3b93b6e0e5"
   },
   "outputs": [],
   "source": [
    "# This Python 3 environment comes with many helpful analytics libraries installed\n",
    "# It is defined by the kaggle/python Docker image: https://github.com/kaggle/docker-python\n",
    "# For example, here's several helpful packages to load\n",
    "\n",
    "import numpy as np # linear algebra\n",
    "import pandas as pd # data processing, CSV file I/O (e.g. pd.read_csv)\n",
    "\n",
    "# Input data files are available in the read-only \"../input/\" directory\n",
    "# For example, running this (by clicking run or pressing Shift+Enter) will list all files under the input directory\n",
    "\n",
    "import os\n",
    "for dirname, _, filenames in os.walk('/kaggle/input'):\n",
    "    for filename in filenames:\n",
    "        print(os.path.join(dirname, filename))\n",
    "\n",
    "# You can write up to 20GB to the current directory (/kaggle/working/) that gets preserved as output when you create a version using \"Save & Run All\" \n",
    "# You can also write temporary files to /kaggle/temp/, but they won't be saved outside of the current session"
   ]
  },
  {
   "cell_type": "code",
   "execution_count": 1,
   "metadata": {},
   "outputs": [
    {
     "name": "stderr",
     "output_type": "stream",
     "text": [
      "/Users/shivshankar/Desktop/Thesis MSCSK/venv/lib/python3.9/site-packages/urllib3/__init__.py:35: NotOpenSSLWarning: urllib3 v2 only supports OpenSSL 1.1.1+, currently the 'ssl' module is compiled with 'LibreSSL 2.8.3'. See: https://github.com/urllib3/urllib3/issues/3020\n",
      "  warnings.warn(\n"
     ]
    }
   ],
   "source": [
    "import os\n",
    "import h5py\n",
    "import numpy as np\n",
    "import tensorflow as tf\n",
    "from tensorflow.keras.layers import Input, Conv2D, MaxPooling2D, Conv2DTranspose, concatenate\n",
    "from tensorflow.keras.models import Model\n",
    "from tensorflow.keras.optimizers import Adam\n",
    "from tensorflow.keras.callbacks import ModelCheckpoint, EarlyStopping, TensorBoard\n",
    "from sklearn.model_selection import train_test_split\n",
    "from tensorflow.keras.utils import Sequence\n",
    "from skimage.transform import resize\n",
    "import tensorflow.keras.backend as K\n",
    "import datetime\n",
    "import json\n",
    "import matplotlib.pyplot as plt"
   ]
  },
  {
   "cell_type": "code",
   "execution_count": null,
   "metadata": {},
   "outputs": [],
   "source": []
  },
  {
   "cell_type": "code",
   "execution_count": 2,
   "metadata": {},
   "outputs": [
    {
     "name": "stdout",
     "output_type": "stream",
     "text": [
      "2.13.0\n"
     ]
    }
   ],
   "source": [
    "# from keras.layers import Input, Conv2D, MaxPooling2D, Conv2DTranspose, concatenate\n",
    "import tensorflow as tf\n",
    "print(tf.__version__)\n"
   ]
  },
  {
   "cell_type": "code",
   "execution_count": 3,
   "metadata": {},
   "outputs": [
    {
     "name": "stdout",
     "output_type": "stream",
     "text": [
      "Num GPUs Available:  1\n",
      "Available GPU devices: [PhysicalDevice(name='/physical_device:GPU:0', device_type='GPU')]\n"
     ]
    }
   ],
   "source": [
    "print(\"Num GPUs Available: \", len(tf.config.list_physical_devices('GPU')))\n",
    "print(\"Available GPU devices:\", tf.config.list_physical_devices('GPU'))"
   ]
  },
  {
   "cell_type": "code",
   "execution_count": 4,
   "metadata": {},
   "outputs": [],
   "source": [
    "# -------------------------------\n",
    "# 2. Define Custom Metrics\n",
    "# -------------------------------\n",
    "def dice_coefficient(y_true, y_pred, smooth=1):\n",
    "    \"\"\"\n",
    "    Calculates the Dice Coefficient.\n",
    "    \"\"\"\n",
    "    y_true_f = K.flatten(y_true)\n",
    "    y_pred_f = K.flatten(y_pred)\n",
    "    intersection = K.sum(y_true_f * y_pred_f)\n",
    "    return (2. * intersection + smooth) / (K.sum(y_true_f) + K.sum(y_pred_f) + smooth)\n",
    "\n",
    "def iou_metric(y_true, y_pred, smooth=1):\n",
    "    \"\"\"\n",
    "    Calculates the Intersection over Union (IoU) metric.\n",
    "    \"\"\"\n",
    "    y_true_f = K.flatten(y_true)\n",
    "    y_pred_f = K.flatten(y_pred)\n",
    "    intersection = K.sum(y_true_f * y_pred_f)\n",
    "    union = K.sum(y_true_f) + K.sum(y_pred_f) - intersection\n",
    "    return (intersection + smooth) / (union + smooth)\n"
   ]
  },
  {
   "cell_type": "code",
   "execution_count": 5,
   "metadata": {},
   "outputs": [
    {
     "name": "stdout",
     "output_type": "stream",
     "text": [
      "Total samples: 57195\n",
      "Training samples: 45756\n",
      "Validation samples: 11439\n"
     ]
    }
   ],
   "source": [
    "# Define the data directory (adjust this path if necessary)\n",
    "data_dir = 'brats2020/content/data'\n",
    "\n",
    "# Get list of .h5 files\n",
    "h5_files = [f for f in os.listdir(data_dir) if f.endswith('.h5')]\n",
    "\n",
    "# Ensure that there are .h5 files in the directory\n",
    "if not h5_files:\n",
    "    raise FileNotFoundError(f\"No .h5 files found in the directory: {data_dir}\")\n",
    "\n",
    "# Split into training and validation sets\n",
    "train_files, val_files = train_test_split(h5_files, test_size=0.2, random_state=42)\n",
    "\n",
    "print(f\"Total samples: {len(h5_files)}\")\n",
    "print(f\"Training samples: {len(train_files)}\")\n",
    "print(f\"Validation samples: {len(val_files)}\")"
   ]
  },
  {
   "cell_type": "code",
   "execution_count": 6,
   "metadata": {},
   "outputs": [],
   "source": [
    "# Parameters\n",
    "batch_size = 8  # Adjust based on GPU memory\n",
    "image_dim = (128, 128)  # Adjust based on your image dimensions\n"
   ]
  },
  {
   "cell_type": "code",
   "execution_count": 7,
   "metadata": {},
   "outputs": [],
   "source": [
    "# -------------------------------\n",
    "# 5. Define the Data Generator\n",
    "# -------------------------------\n",
    "class DataGenerator(Sequence):\n",
    "    def __init__(self, h5_files, data_dir, batch_size=16, dim=(128, 128), shuffle=True):\n",
    "        self.h5_files = h5_files\n",
    "        self.data_dir = data_dir\n",
    "        self.batch_size = batch_size\n",
    "        self.dim = dim\n",
    "        self.shuffle = shuffle\n",
    "        self.indexes = np.arange(len(self.h5_files))\n",
    "        self.on_epoch_end()\n",
    "        \n",
    "    def __len__(self):\n",
    "        return int(np.floor(len(self.h5_files) / self.batch_size))\n",
    "        \n",
    "    def __getitem__(self, index):\n",
    "        # Generate indexes of the batch\n",
    "        batch_indexes = self.indexes[index*self.batch_size:(index+1)*self.batch_size]\n",
    "        h5_batch = [self.h5_files[k] for k in batch_indexes]\n",
    "        X, y = self.__data_generation(h5_batch)\n",
    "        return X, y\n",
    "        \n",
    "    def on_epoch_end(self):\n",
    "        if self.shuffle:\n",
    "            np.random.shuffle(self.indexes)\n",
    "        \n",
    "    def __data_generation(self, h5_batch):\n",
    "        # Initialize arrays\n",
    "        X = np.empty((self.batch_size, *self.dim, 4), dtype='float32')  # 4 channels\n",
    "        y = np.empty((self.batch_size, *self.dim, 1), dtype='float32')  # Single-channel masks\n",
    "            \n",
    "        for i, h5_file in enumerate(h5_batch):\n",
    "            file_path = os.path.join(self.data_dir, h5_file)\n",
    "            with h5py.File(file_path, 'r') as hf:\n",
    "                # Check for the correct keys\n",
    "                if 'image' in hf.keys() and 'mask' in hf.keys():\n",
    "                    image = hf['image'][:]  # Expected shape: (H, W, 4)\n",
    "                    mask = hf['mask'][:]    # Expected shape: (H, W) or (H, W, C)\n",
    "                else:\n",
    "                    raise KeyError(f\"Unexpected keys in {h5_file}: {list(hf.keys())}\")\n",
    "\n",
    "                # If mask has multiple channels, convert to single-channel\n",
    "                if mask.ndim > 2:\n",
    "                    mask = np.mean(mask, axis=-1)  # Example: Convert RGB to grayscale\n",
    "\n",
    "                # Resize images if necessary\n",
    "                if image.shape[:2] != self.dim:\n",
    "                    image = resize(\n",
    "                        image, \n",
    "                        (*self.dim, image.shape[2]), \n",
    "                        preserve_range=True, \n",
    "                        anti_aliasing=True\n",
    "                    )\n",
    "                \n",
    "                if mask.shape != self.dim:\n",
    "                    # Use nearest-neighbor interpolation for masks to preserve labels\n",
    "                    mask = resize(\n",
    "                        mask, \n",
    "                        self.dim, \n",
    "                        preserve_range=True, \n",
    "                        order=0, \n",
    "                        anti_aliasing=False\n",
    "                    )\n",
    "\n",
    "                # Normalize the image\n",
    "                image_max = np.max(image)\n",
    "                if image_max > 0:\n",
    "                    image = image.astype('float32') / image_max\n",
    "                else:\n",
    "                    image = image.astype('float32')\n",
    "\n",
    "                # Normalize the mask\n",
    "                mask_max = np.max(mask)\n",
    "                if mask_max > 0:\n",
    "                    mask = mask.astype('float32') / mask_max\n",
    "                else:\n",
    "                    mask = mask.astype('float32')  # All zeros\n",
    "\n",
    "                # Assign to batch arrays\n",
    "                X[i] = image  # Shape: (128, 128, 4)\n",
    "                y[i] = np.expand_dims(mask, axis=-1)  # Shape: (128, 128, 1)\n",
    "            \n",
    "        return X, y"
   ]
  },
  {
   "cell_type": "code",
   "execution_count": 8,
   "metadata": {},
   "outputs": [],
   "source": [
    "# 6. Instantiate Data Generators\n",
    "# -------------------------------\n",
    "training_generator = DataGenerator(train_files, data_dir, batch_size=batch_size, dim=image_dim, shuffle=True)\n",
    "validation_generator = DataGenerator(val_files, data_dir, batch_size=batch_size, dim=image_dim, shuffle=False)\n"
   ]
  },
  {
   "cell_type": "code",
   "execution_count": 9,
   "metadata": {},
   "outputs": [],
   "source": [
    "# 8. Define Callbacks\n",
    "# -------------------------------\n",
    "# Create a timestamp for the logs\n",
    "log_dir = os.path.join(\"logs\", datetime.datetime.now().strftime(\"%Y%m%d-%H%M%S\"))\n",
    "\n",
    "# TensorBoard callback for visualization\n",
    "tensorboard_callback = TensorBoard(log_dir=log_dir, histogram_freq=1)\n",
    "\n",
    "# EarlyStopping callback with multiple metric monitoring\n",
    "early_stopping = EarlyStopping(\n",
    "    monitor='val_loss', \n",
    "    patience=10, \n",
    "    verbose=1, \n",
    "    restore_best_weights=True\n",
    ")\n",
    "\n",
    "# ModelCheckpoint callback to save the best model with '.keras' extension\n",
    "model_checkpoint = ModelCheckpoint(\n",
    "    'model-unet.best.h5',  # Changed from '.h5' to '.keras'\n",
    "    monitor='val_loss', \n",
    "    verbose=1, \n",
    "    save_best_only=True, \n",
    "    mode='min'\n",
    ")\n",
    "\n",
    "# Combine all callbacks\n",
    "callbacks = [\n",
    "    early_stopping,\n",
    "    model_checkpoint,\n",
    "    tensorboard_callback\n",
    "]\n"
   ]
  },
  {
   "cell_type": "code",
   "execution_count": 10,
   "metadata": {},
   "outputs": [
    {
     "name": "stdout",
     "output_type": "stream",
     "text": [
      "Requirement already satisfied: pennylane in /Users/shivshankar/Desktop/Thesis MSCSK/venv/lib/python3.9/site-packages (0.38.0)\n",
      "Requirement already satisfied: networkx in /Users/shivshankar/Desktop/Thesis MSCSK/venv/lib/python3.9/site-packages (from pennylane) (3.2.1)\n",
      "Requirement already satisfied: requests in /Users/shivshankar/Desktop/Thesis MSCSK/venv/lib/python3.9/site-packages (from pennylane) (2.32.3)\n",
      "Requirement already satisfied: toml in /Users/shivshankar/Desktop/Thesis MSCSK/venv/lib/python3.9/site-packages (from pennylane) (0.10.2)\n",
      "Requirement already satisfied: cachetools in /Users/shivshankar/Desktop/Thesis MSCSK/venv/lib/python3.9/site-packages (from pennylane) (5.5.1)\n",
      "Requirement already satisfied: rustworkx>=0.14.0 in /Users/shivshankar/Desktop/Thesis MSCSK/venv/lib/python3.9/site-packages (from pennylane) (0.16.0)\n",
      "Requirement already satisfied: packaging in /Users/shivshankar/Desktop/Thesis MSCSK/venv/lib/python3.9/site-packages (from pennylane) (24.2)\n",
      "Requirement already satisfied: autograd in /Users/shivshankar/Desktop/Thesis MSCSK/venv/lib/python3.9/site-packages (from pennylane) (1.7.0)\n",
      "Requirement already satisfied: autoray>=0.6.11 in /Users/shivshankar/Desktop/Thesis MSCSK/venv/lib/python3.9/site-packages (from pennylane) (0.7.0)\n",
      "Requirement already satisfied: pennylane-lightning>=0.38 in /Users/shivshankar/Desktop/Thesis MSCSK/venv/lib/python3.9/site-packages (from pennylane) (0.38.0)\n",
      "Requirement already satisfied: typing-extensions in /Users/shivshankar/Desktop/Thesis MSCSK/venv/lib/python3.9/site-packages (from pennylane) (4.5.0)\n",
      "Requirement already satisfied: numpy<2.0 in /Users/shivshankar/Desktop/Thesis MSCSK/venv/lib/python3.9/site-packages (from pennylane) (1.24.3)\n",
      "Requirement already satisfied: scipy in /Users/shivshankar/Desktop/Thesis MSCSK/venv/lib/python3.9/site-packages (from pennylane) (1.13.1)\n",
      "Requirement already satisfied: appdirs in /Users/shivshankar/Desktop/Thesis MSCSK/venv/lib/python3.9/site-packages (from pennylane) (1.4.4)\n",
      "Requirement already satisfied: urllib3<3,>=1.21.1 in /Users/shivshankar/Desktop/Thesis MSCSK/venv/lib/python3.9/site-packages (from requests->pennylane) (2.3.0)\n",
      "Requirement already satisfied: certifi>=2017.4.17 in /Users/shivshankar/Desktop/Thesis MSCSK/venv/lib/python3.9/site-packages (from requests->pennylane) (2024.12.14)\n",
      "Requirement already satisfied: idna<4,>=2.5 in /Users/shivshankar/Desktop/Thesis MSCSK/venv/lib/python3.9/site-packages (from requests->pennylane) (3.10)\n",
      "Requirement already satisfied: charset-normalizer<4,>=2 in /Users/shivshankar/Desktop/Thesis MSCSK/venv/lib/python3.9/site-packages (from requests->pennylane) (3.4.1)\n",
      "\u001b[33mWARNING: You are using pip version 21.2.4; however, version 25.0.1 is available.\n",
      "You should consider upgrading via the '/Users/shivshankar/Desktop/Thesis MSCSK/venv/bin/python3 -m pip install --upgrade pip' command.\u001b[0m\n"
     ]
    }
   ],
   "source": []
  },
  {
   "cell_type": "code",
   "execution_count": 11,
   "metadata": {},
   "outputs": [
    {
     "name": "stderr",
     "output_type": "stream",
     "text": [
      "2025-03-20 12:41:24.919400: I metal_plugin/src/device/metal_device.cc:1154] Metal device set to: Apple M1\n",
      "2025-03-20 12:41:24.919485: I metal_plugin/src/device/metal_device.cc:296] systemMemory: 8.00 GB\n",
      "2025-03-20 12:41:24.919522: I metal_plugin/src/device/metal_device.cc:313] maxCacheSize: 2.67 GB\n",
      "2025-03-20 12:41:24.920236: I tensorflow/core/common_runtime/pluggable_device/pluggable_device_factory.cc:303] Could not identify NUMA node of platform GPU ID 0, defaulting to 0. Your kernel may not have been built with NUMA support.\n",
      "2025-03-20 12:41:24.920649: I tensorflow/core/common_runtime/pluggable_device/pluggable_device_factory.cc:269] Created TensorFlow device (/job:localhost/replica:0/task:0/device:GPU:0 with 0 MB memory) -> physical PluggableDevice (device: 0, name: METAL, pci bus id: <undefined>)\n"
     ]
    },
    {
     "name": "stdout",
     "output_type": "stream",
     "text": [
      "WARNING:tensorflow:AutoGraph could not transform <function validate_device_wires at 0x30faba5e0> and will run it as-is.\n",
      "Please report this to the TensorFlow team. When filing the bug, set the verbosity to 10 (on Linux, `export AUTOGRAPH_VERBOSITY=10`) and attach the full output.\n",
      "Cause: 'NoneType' object has no attribute '_fields'\n",
      "To silence this warning, decorate the function with @tf.autograph.experimental.do_not_convert\n",
      "WARNING: AutoGraph could not transform <function validate_device_wires at 0x30faba5e0> and will run it as-is.\n",
      "Please report this to the TensorFlow team. When filing the bug, set the verbosity to 10 (on Linux, `export AUTOGRAPH_VERBOSITY=10`) and attach the full output.\n",
      "Cause: 'NoneType' object has no attribute '_fields'\n",
      "To silence this warning, decorate the function with @tf.autograph.experimental.do_not_convert\n",
      "WARNING:tensorflow:AutoGraph could not transform <function validate_measurements at 0x30faba940> and will run it as-is.\n",
      "Please report this to the TensorFlow team. When filing the bug, set the verbosity to 10 (on Linux, `export AUTOGRAPH_VERBOSITY=10`) and attach the full output.\n",
      "Cause: invalid value for \"node\": expected \"ast.AST\", got \"<class 'NoneType'>\"; to visit lists of nodes, use \"visit_block\" instead\n",
      "To silence this warning, decorate the function with @tf.autograph.experimental.do_not_convert\n",
      "WARNING: AutoGraph could not transform <function validate_measurements at 0x30faba940> and will run it as-is.\n",
      "Please report this to the TensorFlow team. When filing the bug, set the verbosity to 10 (on Linux, `export AUTOGRAPH_VERBOSITY=10`) and attach the full output.\n",
      "Cause: invalid value for \"node\": expected \"ast.AST\", got \"<class 'NoneType'>\"; to visit lists of nodes, use \"visit_block\" instead\n",
      "To silence this warning, decorate the function with @tf.autograph.experimental.do_not_convert\n",
      "WARNING:tensorflow:AutoGraph could not transform <function _gcd_import at 0x104d30310> and will run it as-is.\n",
      "Cause: Unable to locate the source code of <function _gcd_import at 0x104d30310>. Note that functions defined in certain environments, like the interactive Python shell, do not expose their source code. If that is the case, you should define them in a .py source file. If you are certain the code is graph-compatible, wrap the call using @tf.autograph.experimental.do_not_convert. Original error: could not get source code\n",
      "To silence this warning, decorate the function with @tf.autograph.experimental.do_not_convert\n",
      "WARNING: AutoGraph could not transform <function _gcd_import at 0x104d30310> and will run it as-is.\n",
      "Cause: Unable to locate the source code of <function _gcd_import at 0x104d30310>. Note that functions defined in certain environments, like the interactive Python shell, do not expose their source code. If that is the case, you should define them in a .py source file. If you are certain the code is graph-compatible, wrap the call using @tf.autograph.experimental.do_not_convert. Original error: could not get source code\n",
      "To silence this warning, decorate the function with @tf.autograph.experimental.do_not_convert\n",
      "WARNING:tensorflow:AutoGraph could not transform <function _c3_mro at 0x104f13040> and will run it as-is.\n",
      "Cause: for/else statement not yet supported\n",
      "To silence this warning, decorate the function with @tf.autograph.experimental.do_not_convert\n",
      "WARNING: AutoGraph could not transform <function _c3_mro at 0x104f13040> and will run it as-is.\n",
      "Cause: for/else statement not yet supported\n",
      "To silence this warning, decorate the function with @tf.autograph.experimental.do_not_convert\n",
      "Model: \"model\"\n",
      "__________________________________________________________________________________________________\n",
      " Layer (type)                Output Shape                 Param #   Connected to                  \n",
      "==================================================================================================\n",
      " input_1 (InputLayer)        [(None, 128, 128, 4)]        0         []                            \n",
      "                                                                                                  \n",
      " VGG16_Modified (Functional  (None, 4, 4, 512)            1471526   ['input_1[0][0]']             \n",
      " )                                                        4                                       \n",
      "                                                                                                  \n",
      " global_average_pooling2d (  (None, 512)                  0         ['VGG16_Modified[0][0]']      \n",
      " GlobalAveragePooling2D)                                                                          \n",
      "                                                                                                  \n",
      " quantum_layer (QuantumLaye  (None, 4)                    2052      ['global_average_pooling2d[0][\n",
      " r)                                                                 0]']                          \n",
      "                                                                                                  \n",
      " reshape (Reshape)           (None, 1, 1, 4)              0         ['quantum_layer[0][0]']       \n",
      "                                                                                                  \n",
      " conv2d (Conv2D)             (None, 1, 1, 256)            1280      ['reshape[0][0]']             \n",
      "                                                                                                  \n",
      " up_sampling2d_1 (UpSamplin  (None, 8, 8, 512)            0         ['VGG16_Modified[0][0]']      \n",
      " g2D)                                                                                             \n",
      "                                                                                                  \n",
      " up_sampling2d (UpSampling2  (None, 4, 4, 256)            0         ['conv2d[0][0]']              \n",
      " D)                                                                                               \n",
      "                                                                                                  \n",
      " conv2d_1 (Conv2D)           (None, 8, 8, 256)            1179904   ['up_sampling2d_1[0][0]']     \n",
      "                                                                                                  \n",
      " up_sampling2d_2 (UpSamplin  (None, 8, 8, 256)            0         ['up_sampling2d[0][0]']       \n",
      " g2D)                                                                                             \n",
      "                                                                                                  \n",
      " concatenate (Concatenate)   (None, 8, 8, 512)            0         ['conv2d_1[0][0]',            \n",
      "                                                                     'up_sampling2d_2[0][0]']     \n",
      "                                                                                                  \n",
      " up_sampling2d_3 (UpSamplin  (None, 16, 16, 512)          0         ['concatenate[0][0]']         \n",
      " g2D)                                                                                             \n",
      "                                                                                                  \n",
      " conv2d_2 (Conv2D)           (None, 16, 16, 128)          589952    ['up_sampling2d_3[0][0]']     \n",
      "                                                                                                  \n",
      " up_sampling2d_4 (UpSamplin  (None, 32, 32, 128)          0         ['conv2d_2[0][0]']            \n",
      " g2D)                                                                                             \n",
      "                                                                                                  \n",
      " conv2d_3 (Conv2D)           (None, 32, 32, 64)           73792     ['up_sampling2d_4[0][0]']     \n",
      "                                                                                                  \n",
      " up_sampling2d_5 (UpSamplin  (None, 64, 64, 64)           0         ['conv2d_3[0][0]']            \n",
      " g2D)                                                                                             \n",
      "                                                                                                  \n",
      " conv2d_4 (Conv2D)           (None, 64, 64, 32)           18464     ['up_sampling2d_5[0][0]']     \n",
      "                                                                                                  \n",
      " up_sampling2d_6 (UpSamplin  (None, 128, 128, 32)         0         ['conv2d_4[0][0]']            \n",
      " g2D)                                                                                             \n",
      "                                                                                                  \n",
      " conv2d_5 (Conv2D)           (None, 128, 128, 1)          33        ['up_sampling2d_6[0][0]']     \n",
      "                                                                                                  \n",
      "==================================================================================================\n",
      "Total params: 16580741 (63.25 MB)\n",
      "Trainable params: 16580741 (63.25 MB)\n",
      "Non-trainable params: 0 (0.00 Byte)\n",
      "__________________________________________________________________________________________________\n"
     ]
    }
   ],
   "source": [
    "import pennylane as qml\n",
    "import tensorflow as tf\n",
    "from tensorflow.keras.layers import Input, Conv2D, UpSampling2D, Concatenate, GlobalAveragePooling2D, Dense, Reshape\n",
    "from tensorflow.keras.models import Model\n",
    "import numpy as np\n",
    "\n",
    "# Quantum Circuit\n",
    "n_qubits = 4  \n",
    "n_layers = 2  \n",
    "dev = qml.device(\"default.qubit\", wires=n_qubits)\n",
    "\n",
    "@qml.qnode(dev, interface=\"tf\")\n",
    "def quantum_circuit(inputs):\n",
    "    \"\"\"Quantum circuit processing inputs\"\"\"\n",
    "    qml.templates.AngleEmbedding(inputs, wires=range(n_qubits))\n",
    "    for _ in range(n_layers):\n",
    "        qml.templates.BasicEntanglerLayers(weights=np.random.randn(n_layers, n_qubits), wires=range(n_qubits))\n",
    "    return [qml.expval(qml.PauliZ(i)) for i in range(n_qubits)]\n",
    "\n",
    "# Custom Keras Quantum Layer\n",
    "class QuantumLayer(tf.keras.layers.Layer):\n",
    "    def __init__(self, output_dim=n_qubits, **kwargs):\n",
    "        super(QuantumLayer, self).__init__(**kwargs)\n",
    "        self.output_dim = output_dim\n",
    "        self.dense = Dense(n_qubits, activation=\"tanh\")  \n",
    "\n",
    "    def call(self, inputs):\n",
    "        reduced_inputs = self.dense(inputs)  # Ensuring the correct input shape\n",
    "        outputs = tf.vectorized_map(lambda x: quantum_circuit(x), reduced_inputs)\n",
    "        return tf.reshape(outputs, (-1, self.output_dim))  # Ensuring correct batch output shape\n",
    "\n",
    "    def compute_output_shape(self, input_shape):\n",
    "        return (input_shape[0], self.output_dim)\n",
    "\n",
    "# Function to Modify VGG16 for 4-channel Input\n",
    "def get_vgg16_encoder(input_shape=(128, 128, 4)):\n",
    "    inputs = Input(shape=input_shape)\n",
    "    x = Conv2D(64, (3, 3), activation=\"relu\", padding=\"same\", name=\"block1_conv1\")(inputs)\n",
    "    \n",
    "    # Load pretrained VGG16 with a 3-channel input to extract weights\n",
    "    vgg16 = tf.keras.applications.VGG16(include_top=False, weights=\"imagenet\", input_shape=(128, 128, 3))\n",
    "    \n",
    "    for i in range(2, len(vgg16.layers)):  # Skip input and first Conv2D layer\n",
    "        x = vgg16.layers[i](x)\n",
    "\n",
    "    return Model(inputs, x, name=\"VGG16_Modified\")\n",
    "\n",
    "# U-Net Model with VGG16 Encoder + Quantum Circuit\n",
    "def build_quantum_unet(input_shape=(128, 128, 4)):\n",
    "    inputs = Input(shape=input_shape)\n",
    "\n",
    "    # VGG16 Encoder (Pretrained, Modified)\n",
    "    base_model = get_vgg16_encoder(input_shape)\n",
    "    encoder_output = base_model(inputs)  # Last convolutional layer (4x4x512)\n",
    "\n",
    "    # Quantum Layer at Bottleneck\n",
    "    q_input = GlobalAveragePooling2D()(encoder_output)  # Reduce spatial dims to (512,)\n",
    "    q_output = QuantumLayer()(q_input)  # Quantum Processing (4,)\n",
    "\n",
    "    # Reshape quantum output to match CNN feature maps\n",
    "    # Ensure quantum output has correct dimensions before reshaping\n",
    "    q_feature_map = Reshape((1, 1, n_qubits))(q_output)  # Output shape: (batch_size, 1, 1, 4)\n",
    "    q_feature_map = Conv2D(256, (1, 1), activation=\"relu\", padding=\"same\")(q_feature_map)  # Match channels\n",
    "    q_feature_map = UpSampling2D((4, 4))(q_feature_map)  # Resize to (4x4,256)\n",
    "\n",
    "    # Decoder (U-Net)\n",
    "    x = UpSampling2D((2, 2))(encoder_output)  # Upsample to (8x8,512)\n",
    "    x = Conv2D(256, (3, 3), activation=\"relu\", padding=\"same\")(x)\n",
    "\n",
    "    # Ensure shape match before concatenation\n",
    "    q_feature_map = UpSampling2D((2, 2))(q_feature_map)  # Resize to (8x8,256)\n",
    "    \n",
    "    x = Concatenate()([x, q_feature_map])  # Now shapes match (8x8,512)\n",
    "\n",
    "    x = UpSampling2D((2, 2))(x)  # Upsample to (16x16)\n",
    "    x = Conv2D(128, (3, 3), activation=\"relu\", padding=\"same\")(x)\n",
    "\n",
    "    x = UpSampling2D((2, 2))(x)  # Upsample to (32x32)\n",
    "    x = Conv2D(64, (3, 3), activation=\"relu\", padding=\"same\")(x)\n",
    "\n",
    "    x = UpSampling2D((2, 2))(x)  # Upsample to (64x64)\n",
    "    x = Conv2D(32, (3, 3), activation=\"relu\", padding=\"same\")(x)\n",
    "\n",
    "    x = UpSampling2D((2, 2))(x)  # Upsample to (128x128)\n",
    "    outputs = Conv2D(1, (1, 1), activation=\"sigmoid\")(x)\n",
    "\n",
    "    model = Model(inputs, outputs)\n",
    "    return model\n",
    "\n",
    "# Build and check the model\n",
    "model = build_quantum_unet()\n",
    "model.summary()\n"
   ]
  },
  {
   "cell_type": "code",
   "execution_count": 12,
   "metadata": {},
   "outputs": [
    {
     "name": "stderr",
     "output_type": "stream",
     "text": [
      "WARNING:absl:At this time, the v2.11+ optimizer `tf.keras.optimizers.Adam` runs slowly on M1/M2 Macs, please use the legacy Keras optimizer instead, located at `tf.keras.optimizers.legacy.Adam`.\n",
      "WARNING:absl:There is a known slowdown when using v2.11+ Keras optimizers on M1/M2 Macs. Falling back to the legacy Keras optimizer, i.e., `tf.keras.optimizers.legacy.Adam`.\n"
     ]
    },
    {
     "name": "stdout",
     "output_type": "stream",
     "text": [
      "Model: \"model\"\n",
      "__________________________________________________________________________________________________\n",
      " Layer (type)                Output Shape                 Param #   Connected to                  \n",
      "==================================================================================================\n",
      " input_1 (InputLayer)        [(None, 128, 128, 4)]        0         []                            \n",
      "                                                                                                  \n",
      " VGG16_Modified (Functional  (None, 4, 4, 512)            1471526   ['input_1[0][0]']             \n",
      " )                                                        4                                       \n",
      "                                                                                                  \n",
      " global_average_pooling2d (  (None, 512)                  0         ['VGG16_Modified[0][0]']      \n",
      " GlobalAveragePooling2D)                                                                          \n",
      "                                                                                                  \n",
      " quantum_layer (QuantumLaye  (None, 4)                    2052      ['global_average_pooling2d[0][\n",
      " r)                                                                 0]']                          \n",
      "                                                                                                  \n",
      " reshape (Reshape)           (None, 1, 1, 4)              0         ['quantum_layer[0][0]']       \n",
      "                                                                                                  \n",
      " conv2d (Conv2D)             (None, 1, 1, 256)            1280      ['reshape[0][0]']             \n",
      "                                                                                                  \n",
      " up_sampling2d_1 (UpSamplin  (None, 8, 8, 512)            0         ['VGG16_Modified[0][0]']      \n",
      " g2D)                                                                                             \n",
      "                                                                                                  \n",
      " up_sampling2d (UpSampling2  (None, 4, 4, 256)            0         ['conv2d[0][0]']              \n",
      " D)                                                                                               \n",
      "                                                                                                  \n",
      " conv2d_1 (Conv2D)           (None, 8, 8, 256)            1179904   ['up_sampling2d_1[0][0]']     \n",
      "                                                                                                  \n",
      " up_sampling2d_2 (UpSamplin  (None, 8, 8, 256)            0         ['up_sampling2d[0][0]']       \n",
      " g2D)                                                                                             \n",
      "                                                                                                  \n",
      " concatenate (Concatenate)   (None, 8, 8, 512)            0         ['conv2d_1[0][0]',            \n",
      "                                                                     'up_sampling2d_2[0][0]']     \n",
      "                                                                                                  \n",
      " up_sampling2d_3 (UpSamplin  (None, 16, 16, 512)          0         ['concatenate[0][0]']         \n",
      " g2D)                                                                                             \n",
      "                                                                                                  \n",
      " conv2d_2 (Conv2D)           (None, 16, 16, 128)          589952    ['up_sampling2d_3[0][0]']     \n",
      "                                                                                                  \n",
      " up_sampling2d_4 (UpSamplin  (None, 32, 32, 128)          0         ['conv2d_2[0][0]']            \n",
      " g2D)                                                                                             \n",
      "                                                                                                  \n",
      " conv2d_3 (Conv2D)           (None, 32, 32, 64)           73792     ['up_sampling2d_4[0][0]']     \n",
      "                                                                                                  \n",
      " up_sampling2d_5 (UpSamplin  (None, 64, 64, 64)           0         ['conv2d_3[0][0]']            \n",
      " g2D)                                                                                             \n",
      "                                                                                                  \n",
      " conv2d_4 (Conv2D)           (None, 64, 64, 32)           18464     ['up_sampling2d_5[0][0]']     \n",
      "                                                                                                  \n",
      " up_sampling2d_6 (UpSamplin  (None, 128, 128, 32)         0         ['conv2d_4[0][0]']            \n",
      " g2D)                                                                                             \n",
      "                                                                                                  \n",
      " conv2d_5 (Conv2D)           (None, 128, 128, 1)          33        ['up_sampling2d_6[0][0]']     \n",
      "                                                                                                  \n",
      "==================================================================================================\n",
      "Total params: 16580741 (63.25 MB)\n",
      "Trainable params: 16580741 (63.25 MB)\n",
      "Non-trainable params: 0 (0.00 Byte)\n",
      "__________________________________________________________________________________________________\n"
     ]
    }
   ],
   "source": [
    "model.compile(optimizer=Adam(), \n",
    "              loss='binary_crossentropy', \n",
    "              metrics=['accuracy', dice_coefficient, iou_metric])\n",
    "model.summary()"
   ]
  },
  {
   "cell_type": "code",
   "execution_count": 13,
   "metadata": {},
   "outputs": [
    {
     "name": "stdout",
     "output_type": "stream",
     "text": [
      "WARNING:tensorflow:You are casting an input of type complex128 to an incompatible dtype float32.  This will discard the imaginary part and may not be what you intended.\n"
     ]
    },
    {
     "name": "stderr",
     "output_type": "stream",
     "text": [
      "WARNING:tensorflow:You are casting an input of type complex128 to an incompatible dtype float32.  This will discard the imaginary part and may not be what you intended.\n"
     ]
    },
    {
     "name": "stdout",
     "output_type": "stream",
     "text": [
      "WARNING:tensorflow:You are casting an input of type complex128 to an incompatible dtype float32.  This will discard the imaginary part and may not be what you intended.\n"
     ]
    },
    {
     "name": "stderr",
     "output_type": "stream",
     "text": [
      "WARNING:tensorflow:You are casting an input of type complex128 to an incompatible dtype float32.  This will discard the imaginary part and may not be what you intended.\n"
     ]
    },
    {
     "name": "stdout",
     "output_type": "stream",
     "text": [
      "WARNING:tensorflow:You are casting an input of type complex128 to an incompatible dtype float32.  This will discard the imaginary part and may not be what you intended.\n"
     ]
    },
    {
     "name": "stderr",
     "output_type": "stream",
     "text": [
      "WARNING:tensorflow:You are casting an input of type complex128 to an incompatible dtype float32.  This will discard the imaginary part and may not be what you intended.\n"
     ]
    },
    {
     "name": "stdout",
     "output_type": "stream",
     "text": [
      "WARNING:tensorflow:You are casting an input of type complex128 to an incompatible dtype float32.  This will discard the imaginary part and may not be what you intended.\n"
     ]
    },
    {
     "name": "stderr",
     "output_type": "stream",
     "text": [
      "WARNING:tensorflow:You are casting an input of type complex128 to an incompatible dtype float32.  This will discard the imaginary part and may not be what you intended.\n"
     ]
    },
    {
     "name": "stdout",
     "output_type": "stream",
     "text": [
      "WARNING:tensorflow:You are casting an input of type complex128 to an incompatible dtype float32.  This will discard the imaginary part and may not be what you intended.\n"
     ]
    },
    {
     "name": "stderr",
     "output_type": "stream",
     "text": [
      "WARNING:tensorflow:You are casting an input of type complex128 to an incompatible dtype float32.  This will discard the imaginary part and may not be what you intended.\n"
     ]
    },
    {
     "name": "stdout",
     "output_type": "stream",
     "text": [
      "WARNING:tensorflow:You are casting an input of type complex128 to an incompatible dtype float32.  This will discard the imaginary part and may not be what you intended.\n"
     ]
    },
    {
     "name": "stderr",
     "output_type": "stream",
     "text": [
      "WARNING:tensorflow:You are casting an input of type complex128 to an incompatible dtype float32.  This will discard the imaginary part and may not be what you intended.\n"
     ]
    },
    {
     "name": "stdout",
     "output_type": "stream",
     "text": [
      "WARNING:tensorflow:You are casting an input of type complex128 to an incompatible dtype float32.  This will discard the imaginary part and may not be what you intended.\n"
     ]
    },
    {
     "name": "stderr",
     "output_type": "stream",
     "text": [
      "WARNING:tensorflow:You are casting an input of type complex128 to an incompatible dtype float32.  This will discard the imaginary part and may not be what you intended.\n"
     ]
    },
    {
     "name": "stdout",
     "output_type": "stream",
     "text": [
      "WARNING:tensorflow:You are casting an input of type complex128 to an incompatible dtype float32.  This will discard the imaginary part and may not be what you intended.\n"
     ]
    },
    {
     "name": "stderr",
     "output_type": "stream",
     "text": [
      "WARNING:tensorflow:You are casting an input of type complex128 to an incompatible dtype float32.  This will discard the imaginary part and may not be what you intended.\n"
     ]
    },
    {
     "name": "stdout",
     "output_type": "stream",
     "text": [
      "WARNING:tensorflow:You are casting an input of type complex128 to an incompatible dtype float32.  This will discard the imaginary part and may not be what you intended.\n"
     ]
    },
    {
     "name": "stderr",
     "output_type": "stream",
     "text": [
      "WARNING:tensorflow:You are casting an input of type complex128 to an incompatible dtype float32.  This will discard the imaginary part and may not be what you intended.\n"
     ]
    },
    {
     "name": "stdout",
     "output_type": "stream",
     "text": [
      "WARNING:tensorflow:You are casting an input of type complex128 to an incompatible dtype float32.  This will discard the imaginary part and may not be what you intended.\n"
     ]
    },
    {
     "name": "stderr",
     "output_type": "stream",
     "text": [
      "WARNING:tensorflow:You are casting an input of type complex128 to an incompatible dtype float32.  This will discard the imaginary part and may not be what you intended.\n"
     ]
    },
    {
     "name": "stdout",
     "output_type": "stream",
     "text": [
      "WARNING:tensorflow:You are casting an input of type complex128 to an incompatible dtype float32.  This will discard the imaginary part and may not be what you intended.\n"
     ]
    },
    {
     "name": "stderr",
     "output_type": "stream",
     "text": [
      "WARNING:tensorflow:You are casting an input of type complex128 to an incompatible dtype float32.  This will discard the imaginary part and may not be what you intended.\n"
     ]
    },
    {
     "name": "stdout",
     "output_type": "stream",
     "text": [
      "WARNING:tensorflow:You are casting an input of type complex128 to an incompatible dtype float32.  This will discard the imaginary part and may not be what you intended.\n"
     ]
    },
    {
     "name": "stderr",
     "output_type": "stream",
     "text": [
      "WARNING:tensorflow:You are casting an input of type complex128 to an incompatible dtype float32.  This will discard the imaginary part and may not be what you intended.\n"
     ]
    },
    {
     "name": "stdout",
     "output_type": "stream",
     "text": [
      "WARNING:tensorflow:You are casting an input of type complex128 to an incompatible dtype float32.  This will discard the imaginary part and may not be what you intended.\n"
     ]
    },
    {
     "name": "stderr",
     "output_type": "stream",
     "text": [
      "WARNING:tensorflow:You are casting an input of type complex128 to an incompatible dtype float32.  This will discard the imaginary part and may not be what you intended.\n"
     ]
    },
    {
     "name": "stdout",
     "output_type": "stream",
     "text": [
      "WARNING:tensorflow:You are casting an input of type complex128 to an incompatible dtype float32.  This will discard the imaginary part and may not be what you intended.\n"
     ]
    },
    {
     "name": "stderr",
     "output_type": "stream",
     "text": [
      "WARNING:tensorflow:You are casting an input of type complex128 to an incompatible dtype float32.  This will discard the imaginary part and may not be what you intended.\n"
     ]
    },
    {
     "name": "stdout",
     "output_type": "stream",
     "text": [
      "WARNING:tensorflow:You are casting an input of type complex128 to an incompatible dtype float32.  This will discard the imaginary part and may not be what you intended.\n"
     ]
    },
    {
     "name": "stderr",
     "output_type": "stream",
     "text": [
      "WARNING:tensorflow:You are casting an input of type complex128 to an incompatible dtype float32.  This will discard the imaginary part and may not be what you intended.\n"
     ]
    },
    {
     "name": "stdout",
     "output_type": "stream",
     "text": [
      "WARNING:tensorflow:You are casting an input of type complex128 to an incompatible dtype float32.  This will discard the imaginary part and may not be what you intended.\n"
     ]
    },
    {
     "name": "stderr",
     "output_type": "stream",
     "text": [
      "WARNING:tensorflow:You are casting an input of type complex128 to an incompatible dtype float32.  This will discard the imaginary part and may not be what you intended.\n",
      "2025-03-20 12:41:55.654703: I tensorflow/core/grappler/optimizers/custom_graph_optimizer_registry.cc:114] Plugin optimizer for device_type GPU is enabled.\n"
     ]
    },
    {
     "name": "stdout",
     "output_type": "stream",
     "text": [
      "5719/5719 [==============================] - ETA: 0s - loss: 0.0153 - accuracy: 0.9944 - dice_coefficient: 0.5781 - iou_metric: 0.4295      "
     ]
    },
    {
     "name": "stderr",
     "output_type": "stream",
     "text": [
      "2025-03-20 13:05:41.108097: I tensorflow/core/grappler/optimizers/custom_graph_optimizer_registry.cc:114] Plugin optimizer for device_type GPU is enabled.\n"
     ]
    },
    {
     "name": "stdout",
     "output_type": "stream",
     "text": [
      "\n",
      "Epoch 1: val_loss improved from inf to 0.01034, saving model to model-unet.best.h5\n"
     ]
    },
    {
     "name": "stderr",
     "output_type": "stream",
     "text": [
      "/Users/shivshankar/Desktop/Thesis MSCSK/venv/lib/python3.9/site-packages/keras/src/engine/training.py:3000: UserWarning: You are saving your model as an HDF5 file via `model.save()`. This file format is considered legacy. We recommend using instead the native Keras format, e.g. `model.save('my_model.keras')`.\n",
      "  saving_api.save_model(\n"
     ]
    },
    {
     "name": "stdout",
     "output_type": "stream",
     "text": [
      "5719/5719 [==============================] - 1596s 278ms/step - loss: 0.0153 - accuracy: 0.9944 - dice_coefficient: 0.5781 - iou_metric: 0.4295 - val_loss: 0.0103 - val_accuracy: 0.9960 - val_dice_coefficient: 0.6839 - val_iou_metric: 0.5375\n"
     ]
    }
   ],
   "source": [
    "epochs = 1 # You can adjust this based on your requirements\n",
    "\n",
    "try:\n",
    "    results = model.fit(\n",
    "        training_generator,\n",
    "        validation_data=validation_generator,\n",
    "        epochs=epochs,\n",
    "        callbacks=callbacks,\n",
    "        verbose=1  # Set to 1 for progress bar, 2 for one line per epoch, 0 for silent\n",
    "    )\n",
    "except Exception as e:\n",
    "    print(f\"An error occurred during training: {e}\")"
   ]
  },
  {
   "cell_type": "code",
   "execution_count": 14,
   "metadata": {},
   "outputs": [
    {
     "name": "stdout",
     "output_type": "stream",
     "text": [
      "Model training complete and saved as 'final_model_unet.keras'.\n"
     ]
    }
   ],
   "source": [
    "model.save('final_model_unet.keras')\n",
    "print(\"Model training complete and saved as 'final_model_unet.keras'.\")\n"
   ]
  },
  {
   "cell_type": "code",
   "execution_count": 15,
   "metadata": {},
   "outputs": [
    {
     "name": "stdout",
     "output_type": "stream",
     "text": [
      "Training history saved as 'training_history.json'.\n",
      "Loss plot saved as 'loss_plot.png'.\n",
      "Accuracy plot saved as 'accuracy_plot.png'.\n",
      "Dice_coefficient plot saved as 'dice_coefficient_plot.png'.\n",
      "Iou_metric plot saved as 'iou_metric_plot.png'.\n"
     ]
    }
   ],
   "source": [
    "with open('training_history.json', 'w') as f:\n",
    "    json.dump(results.history, f)\n",
    "print(\"Training history saved as 'training_history.json'.\")\n",
    "\n",
    "# -------------------------------\n",
    "# 12. Plot Training History\n",
    "# -------------------------------\n",
    "def plot_training_history(history, metrics=['loss', 'accuracy', 'dice_coefficient', 'iou_metric']):\n",
    "    \"\"\"\n",
    "    Plots training and validation metrics over epochs.\n",
    "    \"\"\"\n",
    "    for metric in metrics:\n",
    "        plt.figure(figsize=(8, 6))\n",
    "        plt.plot(history[metric], label=f'Training {metric}')\n",
    "        plt.plot(history[f'val_{metric}'], label=f'Validation {metric}')\n",
    "        plt.title(f'Training and Validation {metric.capitalize()}')\n",
    "        plt.xlabel('Epoch')\n",
    "        plt.ylabel(metric.capitalize())\n",
    "        plt.legend()\n",
    "        plt.grid(True)\n",
    "        plt.savefig(f'{metric}_plot.png')\n",
    "        plt.close()\n",
    "        print(f\"{metric.capitalize()} plot saved as '{metric}_plot.png'.\")\n",
    "\n",
    "# Plot and save the training history\n",
    "plot_training_history(results.history)"
   ]
  },
  {
   "cell_type": "code",
   "execution_count": 16,
   "metadata": {},
   "outputs": [
    {
     "name": "stdout",
     "output_type": "stream",
     "text": [
      "Visualizing predictions on the validation set...\n"
     ]
    },
    {
     "name": "stderr",
     "output_type": "stream",
     "text": [
      "2025-03-20 13:39:10.259312: I tensorflow/core/grappler/optimizers/custom_graph_optimizer_registry.cc:114] Plugin optimizer for device_type GPU is enabled.\n"
     ]
    },
    {
     "name": "stdout",
     "output_type": "stream",
     "text": [
      "1/1 [==============================] - 5s 5s/step\n",
      "Visualization for sample 1 saved as 'sample_visualization_1.png'\n",
      "Visualization for sample 2 saved as 'sample_visualization_2.png'\n",
      "Visualization for sample 3 saved as 'sample_visualization_3.png'\n",
      "Visualization for sample 4 saved as 'sample_visualization_4.png'\n",
      "Visualization for sample 5 saved as 'sample_visualization_5.png'\n"
     ]
    }
   ],
   "source": [
    "# -------------------------------\n",
    "# 14. Visualize Results\n",
    "# -------------------------------\n",
    "def visualize_predictions(generator, model, num_samples=5):\n",
    "    \"\"\"\n",
    "    Visualizes predictions of the model on a few samples.\n",
    "    \"\"\"\n",
    "    samples_visualized = 0\n",
    "    for X_batch, y_true_batch in generator:\n",
    "        # Predict the batch\n",
    "        y_pred_batch = model.predict(X_batch)\n",
    "        \n",
    "        for i in range(len(X_batch)):\n",
    "            if samples_visualized >= num_samples:\n",
    "                return  # Stop after visualizing the requested number of samples\n",
    "            \n",
    "            input_image = X_batch[i]\n",
    "            true_mask = y_true_batch[i].squeeze()  # Remove single channel\n",
    "            pred_mask = y_pred_batch[i].squeeze()  # Remove single channel\n",
    "            \n",
    "            # Plot input image, true mask, and predicted mask\n",
    "            plt.figure(figsize=(12, 6))\n",
    "            \n",
    "            # Original Input Image\n",
    "            plt.subplot(1, 3, 1)\n",
    "            plt.imshow(input_image[..., 0], cmap='gray')  # Show only one channel\n",
    "            plt.title('Input Image (Channel 0)')\n",
    "            plt.axis('off')\n",
    "            \n",
    "            # True Mask\n",
    "            plt.subplot(1, 3, 2)\n",
    "            plt.imshow(true_mask, cmap='gray')\n",
    "            plt.title('True Mask')\n",
    "            plt.axis('off')\n",
    "            \n",
    "            # Predicted Mask\n",
    "            plt.subplot(1, 3, 3)\n",
    "            plt.imshow(pred_mask, cmap='gray')\n",
    "            plt.title('Predicted Mask')\n",
    "            plt.axis('off')\n",
    "            \n",
    "            # Save or show the plot\n",
    "            plt.savefig(f'sample_visualization_{samples_visualized + 1}.png')\n",
    "            plt.close()\n",
    "            \n",
    "            print(f\"Visualization for sample {samples_visualized + 1} saved as 'sample_visualization_{samples_visualized + 1}.png'\")\n",
    "            samples_visualized += 1\n",
    "\n",
    "# Visualize predictions on the validation set\n",
    "print(\"Visualizing predictions on the validation set...\")\n",
    "visualize_predictions(validation_generator, model, num_samples=5)"
   ]
  },
  {
   "cell_type": "code",
   "execution_count": 17,
   "metadata": {},
   "outputs": [
    {
     "ename": "TypeError",
     "evalue": "'str' object is not callable",
     "output_type": "error",
     "traceback": [
      "\u001b[0;31m---------------------------------------------------------------------------\u001b[0m",
      "\u001b[0;31mTypeError\u001b[0m                                 Traceback (most recent call last)",
      "Cell \u001b[0;32mIn[17], line 7\u001b[0m\n\u001b[1;32m      4\u001b[0m model_path \u001b[38;5;241m=\u001b[39m \u001b[38;5;124m'\u001b[39m\u001b[38;5;124mfinal_model_unet.keras\u001b[39m\u001b[38;5;124m'\u001b[39m\n\u001b[1;32m      6\u001b[0m \u001b[38;5;66;03m# Load the model with custom objects\u001b[39;00m\n\u001b[0;32m----> 7\u001b[0m model \u001b[38;5;241m=\u001b[39m \u001b[43mload_model\u001b[49m\u001b[43m(\u001b[49m\u001b[43mmodel_path\u001b[49m\u001b[43m,\u001b[49m\u001b[43m \u001b[49m\u001b[43mcustom_objects\u001b[49m\u001b[38;5;241;43m=\u001b[39;49m\u001b[43m{\u001b[49m\n\u001b[1;32m      8\u001b[0m \u001b[43m    \u001b[49m\u001b[38;5;124;43m'\u001b[39;49m\u001b[38;5;124;43mdice_coefficient\u001b[39;49m\u001b[38;5;124;43m'\u001b[39;49m\u001b[43m:\u001b[49m\u001b[43m \u001b[49m\u001b[38;5;241;43m0.8234\u001b[39;49m\u001b[43m,\u001b[49m\n\u001b[1;32m      9\u001b[0m \u001b[43m    \u001b[49m\u001b[38;5;124;43m'\u001b[39;49m\u001b[38;5;124;43miou_metric\u001b[39;49m\u001b[38;5;124;43m'\u001b[39;49m\u001b[43m:\u001b[49m\u001b[43m \u001b[49m\u001b[38;5;241;43m0.7008\u001b[39;49m\n\u001b[1;32m     10\u001b[0m \u001b[43m}\u001b[49m\u001b[43m)\u001b[49m\n\u001b[1;32m     12\u001b[0m \u001b[38;5;28mprint\u001b[39m(\u001b[38;5;124m\"\u001b[39m\u001b[38;5;124mModel loaded successfully!\u001b[39m\u001b[38;5;124m\"\u001b[39m)\n",
      "File \u001b[0;32m~/Desktop/Thesis MSCSK/venv/lib/python3.9/site-packages/keras/src/saving/saving_api.py:230\u001b[0m, in \u001b[0;36mload_model\u001b[0;34m(filepath, custom_objects, compile, safe_mode, **kwargs)\u001b[0m\n\u001b[1;32m    225\u001b[0m     \u001b[38;5;28;01mif\u001b[39;00m kwargs:\n\u001b[1;32m    226\u001b[0m         \u001b[38;5;28;01mraise\u001b[39;00m \u001b[38;5;167;01mValueError\u001b[39;00m(\n\u001b[1;32m    227\u001b[0m             \u001b[38;5;124m\"\u001b[39m\u001b[38;5;124mThe following argument(s) are not supported \u001b[39m\u001b[38;5;124m\"\u001b[39m\n\u001b[1;32m    228\u001b[0m             \u001b[38;5;124mf\u001b[39m\u001b[38;5;124m\"\u001b[39m\u001b[38;5;124mwith the native Keras format: \u001b[39m\u001b[38;5;132;01m{\u001b[39;00m\u001b[38;5;28mlist\u001b[39m(kwargs\u001b[38;5;241m.\u001b[39mkeys())\u001b[38;5;132;01m}\u001b[39;00m\u001b[38;5;124m\"\u001b[39m\n\u001b[1;32m    229\u001b[0m         )\n\u001b[0;32m--> 230\u001b[0m     \u001b[38;5;28;01mreturn\u001b[39;00m \u001b[43msaving_lib\u001b[49m\u001b[38;5;241;43m.\u001b[39;49m\u001b[43mload_model\u001b[49m\u001b[43m(\u001b[49m\n\u001b[1;32m    231\u001b[0m \u001b[43m        \u001b[49m\u001b[43mfilepath\u001b[49m\u001b[43m,\u001b[49m\n\u001b[1;32m    232\u001b[0m \u001b[43m        \u001b[49m\u001b[43mcustom_objects\u001b[49m\u001b[38;5;241;43m=\u001b[39;49m\u001b[43mcustom_objects\u001b[49m\u001b[43m,\u001b[49m\n\u001b[1;32m    233\u001b[0m \u001b[43m        \u001b[49m\u001b[38;5;28;43mcompile\u001b[39;49m\u001b[38;5;241;43m=\u001b[39;49m\u001b[38;5;28;43mcompile\u001b[39;49m\u001b[43m,\u001b[49m\n\u001b[1;32m    234\u001b[0m \u001b[43m        \u001b[49m\u001b[43msafe_mode\u001b[49m\u001b[38;5;241;43m=\u001b[39;49m\u001b[43msafe_mode\u001b[49m\u001b[43m,\u001b[49m\n\u001b[1;32m    235\u001b[0m \u001b[43m    \u001b[49m\u001b[43m)\u001b[49m\n\u001b[1;32m    237\u001b[0m \u001b[38;5;66;03m# Legacy case.\u001b[39;00m\n\u001b[1;32m    238\u001b[0m \u001b[38;5;28;01mreturn\u001b[39;00m legacy_sm_saving_lib\u001b[38;5;241m.\u001b[39mload_model(\n\u001b[1;32m    239\u001b[0m     filepath, custom_objects\u001b[38;5;241m=\u001b[39mcustom_objects, \u001b[38;5;28mcompile\u001b[39m\u001b[38;5;241m=\u001b[39m\u001b[38;5;28mcompile\u001b[39m, \u001b[38;5;241m*\u001b[39m\u001b[38;5;241m*\u001b[39mkwargs\n\u001b[1;32m    240\u001b[0m )\n",
      "File \u001b[0;32m~/Desktop/Thesis MSCSK/venv/lib/python3.9/site-packages/keras/src/saving/saving_lib.py:275\u001b[0m, in \u001b[0;36mload_model\u001b[0;34m(filepath, custom_objects, compile, safe_mode)\u001b[0m\n\u001b[1;32m    272\u001b[0m             asset_store\u001b[38;5;241m.\u001b[39mclose()\n\u001b[1;32m    274\u001b[0m \u001b[38;5;28;01mexcept\u001b[39;00m \u001b[38;5;167;01mException\u001b[39;00m \u001b[38;5;28;01mas\u001b[39;00m e:\n\u001b[0;32m--> 275\u001b[0m     \u001b[38;5;28;01mraise\u001b[39;00m e\n\u001b[1;32m    276\u001b[0m \u001b[38;5;28;01melse\u001b[39;00m:\n\u001b[1;32m    277\u001b[0m     \u001b[38;5;28;01mreturn\u001b[39;00m model\n",
      "File \u001b[0;32m~/Desktop/Thesis MSCSK/venv/lib/python3.9/site-packages/keras/src/saving/saving_lib.py:240\u001b[0m, in \u001b[0;36mload_model\u001b[0;34m(filepath, custom_objects, compile, safe_mode)\u001b[0m\n\u001b[1;32m    238\u001b[0m \u001b[38;5;66;03m# Construct the model from the configuration file in the archive.\u001b[39;00m\n\u001b[1;32m    239\u001b[0m \u001b[38;5;28;01mwith\u001b[39;00m ObjectSharingScope():\n\u001b[0;32m--> 240\u001b[0m     model \u001b[38;5;241m=\u001b[39m \u001b[43mdeserialize_keras_object\u001b[49m\u001b[43m(\u001b[49m\n\u001b[1;32m    241\u001b[0m \u001b[43m        \u001b[49m\u001b[43mconfig_dict\u001b[49m\u001b[43m,\u001b[49m\u001b[43m \u001b[49m\u001b[43mcustom_objects\u001b[49m\u001b[43m,\u001b[49m\u001b[43m \u001b[49m\u001b[43msafe_mode\u001b[49m\u001b[38;5;241;43m=\u001b[39;49m\u001b[43msafe_mode\u001b[49m\n\u001b[1;32m    242\u001b[0m \u001b[43m    \u001b[49m\u001b[43m)\u001b[49m\n\u001b[1;32m    244\u001b[0m all_filenames \u001b[38;5;241m=\u001b[39m zf\u001b[38;5;241m.\u001b[39mnamelist()\n\u001b[1;32m    245\u001b[0m \u001b[38;5;28;01mif\u001b[39;00m _VARS_FNAME \u001b[38;5;241m+\u001b[39m \u001b[38;5;124m\"\u001b[39m\u001b[38;5;124m.h5\u001b[39m\u001b[38;5;124m\"\u001b[39m \u001b[38;5;129;01min\u001b[39;00m all_filenames:\n",
      "File \u001b[0;32m~/Desktop/Thesis MSCSK/venv/lib/python3.9/site-packages/keras/src/saving/serialization_lib.py:704\u001b[0m, in \u001b[0;36mdeserialize_keras_object\u001b[0;34m(config, custom_objects, safe_mode, **kwargs)\u001b[0m\n\u001b[1;32m    702\u001b[0m safe_mode_scope \u001b[38;5;241m=\u001b[39m SafeModeScope(safe_mode)\n\u001b[1;32m    703\u001b[0m \u001b[38;5;28;01mwith\u001b[39;00m custom_obj_scope, safe_mode_scope:\n\u001b[0;32m--> 704\u001b[0m     instance \u001b[38;5;241m=\u001b[39m \u001b[38;5;28;43mcls\u001b[39;49m\u001b[38;5;241;43m.\u001b[39;49m\u001b[43mfrom_config\u001b[49m\u001b[43m(\u001b[49m\u001b[43minner_config\u001b[49m\u001b[43m)\u001b[49m\n\u001b[1;32m    705\u001b[0m     build_config \u001b[38;5;241m=\u001b[39m config\u001b[38;5;241m.\u001b[39mget(\u001b[38;5;124m\"\u001b[39m\u001b[38;5;124mbuild_config\u001b[39m\u001b[38;5;124m\"\u001b[39m, \u001b[38;5;28;01mNone\u001b[39;00m)\n\u001b[1;32m    706\u001b[0m     \u001b[38;5;28;01mif\u001b[39;00m build_config:\n",
      "File \u001b[0;32m~/Desktop/Thesis MSCSK/venv/lib/python3.9/site-packages/keras/src/engine/training.py:3227\u001b[0m, in \u001b[0;36mModel.from_config\u001b[0;34m(cls, config, custom_objects)\u001b[0m\n\u001b[1;32m   3219\u001b[0m revivable_as_functional \u001b[38;5;241m=\u001b[39m (\n\u001b[1;32m   3220\u001b[0m     \u001b[38;5;28mcls\u001b[39m \u001b[38;5;129;01min\u001b[39;00m {functional\u001b[38;5;241m.\u001b[39mFunctional, Model}\n\u001b[1;32m   3221\u001b[0m     \u001b[38;5;129;01mor\u001b[39;00m argspec\u001b[38;5;241m.\u001b[39margs[\u001b[38;5;241m1\u001b[39m:] \u001b[38;5;241m==\u001b[39m functional_init_args\n\u001b[1;32m   3222\u001b[0m     \u001b[38;5;129;01mor\u001b[39;00m (argspec\u001b[38;5;241m.\u001b[39mvarargs \u001b[38;5;241m==\u001b[39m \u001b[38;5;124m\"\u001b[39m\u001b[38;5;124margs\u001b[39m\u001b[38;5;124m\"\u001b[39m \u001b[38;5;129;01mand\u001b[39;00m argspec\u001b[38;5;241m.\u001b[39mvarkw \u001b[38;5;241m==\u001b[39m \u001b[38;5;124m\"\u001b[39m\u001b[38;5;124mkwargs\u001b[39m\u001b[38;5;124m\"\u001b[39m)\n\u001b[1;32m   3223\u001b[0m )\n\u001b[1;32m   3224\u001b[0m \u001b[38;5;28;01mif\u001b[39;00m is_functional_config \u001b[38;5;129;01mand\u001b[39;00m revivable_as_functional:\n\u001b[1;32m   3225\u001b[0m     \u001b[38;5;66;03m# Revive Functional model\u001b[39;00m\n\u001b[1;32m   3226\u001b[0m     \u001b[38;5;66;03m# (but not Functional subclasses with a custom __init__)\u001b[39;00m\n\u001b[0;32m-> 3227\u001b[0m     inputs, outputs, layers \u001b[38;5;241m=\u001b[39m \u001b[43mfunctional\u001b[49m\u001b[38;5;241;43m.\u001b[39;49m\u001b[43mreconstruct_from_config\u001b[49m\u001b[43m(\u001b[49m\n\u001b[1;32m   3228\u001b[0m \u001b[43m        \u001b[49m\u001b[43mconfig\u001b[49m\u001b[43m,\u001b[49m\u001b[43m \u001b[49m\u001b[43mcustom_objects\u001b[49m\n\u001b[1;32m   3229\u001b[0m \u001b[43m    \u001b[49m\u001b[43m)\u001b[49m\n\u001b[1;32m   3230\u001b[0m     model \u001b[38;5;241m=\u001b[39m \u001b[38;5;28mcls\u001b[39m(\n\u001b[1;32m   3231\u001b[0m         inputs\u001b[38;5;241m=\u001b[39minputs, outputs\u001b[38;5;241m=\u001b[39moutputs, name\u001b[38;5;241m=\u001b[39mconfig\u001b[38;5;241m.\u001b[39mget(\u001b[38;5;124m\"\u001b[39m\u001b[38;5;124mname\u001b[39m\u001b[38;5;124m\"\u001b[39m)\n\u001b[1;32m   3232\u001b[0m     )\n\u001b[1;32m   3233\u001b[0m     functional\u001b[38;5;241m.\u001b[39mconnect_ancillary_layers(model, layers)\n",
      "File \u001b[0;32m~/Desktop/Thesis MSCSK/venv/lib/python3.9/site-packages/keras/src/engine/functional.py:1502\u001b[0m, in \u001b[0;36mreconstruct_from_config\u001b[0;34m(config, custom_objects, created_layers)\u001b[0m\n\u001b[1;32m   1500\u001b[0m \u001b[38;5;28;01mwhile\u001b[39;00m layer_nodes:\n\u001b[1;32m   1501\u001b[0m     node_data \u001b[38;5;241m=\u001b[39m layer_nodes[\u001b[38;5;241m0\u001b[39m]\n\u001b[0;32m-> 1502\u001b[0m     \u001b[38;5;28;01mif\u001b[39;00m \u001b[43mprocess_node\u001b[49m\u001b[43m(\u001b[49m\u001b[43mlayer\u001b[49m\u001b[43m,\u001b[49m\u001b[43m \u001b[49m\u001b[43mnode_data\u001b[49m\u001b[43m)\u001b[49m:\n\u001b[1;32m   1503\u001b[0m         layer_nodes\u001b[38;5;241m.\u001b[39mpop(\u001b[38;5;241m0\u001b[39m)\n\u001b[1;32m   1504\u001b[0m     \u001b[38;5;28;01melse\u001b[39;00m:\n\u001b[1;32m   1505\u001b[0m         \u001b[38;5;66;03m# If a node can't be processed, stop processing the\u001b[39;00m\n\u001b[1;32m   1506\u001b[0m         \u001b[38;5;66;03m# nodes of the current layer to maintain node ordering.\u001b[39;00m\n",
      "File \u001b[0;32m~/Desktop/Thesis MSCSK/venv/lib/python3.9/site-packages/keras/src/engine/functional.py:1442\u001b[0m, in \u001b[0;36mreconstruct_from_config.<locals>.process_node\u001b[0;34m(layer, node_data)\u001b[0m\n\u001b[1;32m   1435\u001b[0m \u001b[38;5;28;01mif\u001b[39;00m (\n\u001b[1;32m   1436\u001b[0m     \u001b[38;5;129;01mnot\u001b[39;00m \u001b[38;5;28mhasattr\u001b[39m(layer, \u001b[38;5;124m\"\u001b[39m\u001b[38;5;124m_preserve_input_structure_in_config\u001b[39m\u001b[38;5;124m\"\u001b[39m)\n\u001b[1;32m   1437\u001b[0m     \u001b[38;5;129;01mor\u001b[39;00m \u001b[38;5;129;01mnot\u001b[39;00m layer\u001b[38;5;241m.\u001b[39m_preserve_input_structure_in_config\n\u001b[1;32m   1438\u001b[0m ):\n\u001b[1;32m   1439\u001b[0m     input_tensors \u001b[38;5;241m=\u001b[39m base_layer_utils\u001b[38;5;241m.\u001b[39munnest_if_single_tensor(\n\u001b[1;32m   1440\u001b[0m         input_tensors\n\u001b[1;32m   1441\u001b[0m     )\n\u001b[0;32m-> 1442\u001b[0m output_tensors \u001b[38;5;241m=\u001b[39m \u001b[43mlayer\u001b[49m\u001b[43m(\u001b[49m\u001b[43minput_tensors\u001b[49m\u001b[43m,\u001b[49m\u001b[43m \u001b[49m\u001b[38;5;241;43m*\u001b[39;49m\u001b[38;5;241;43m*\u001b[39;49m\u001b[43mkwargs\u001b[49m\u001b[43m)\u001b[49m\n\u001b[1;32m   1444\u001b[0m \u001b[38;5;66;03m# Update node index map.\u001b[39;00m\n\u001b[1;32m   1445\u001b[0m output_index \u001b[38;5;241m=\u001b[39m tf\u001b[38;5;241m.\u001b[39mnest\u001b[38;5;241m.\u001b[39mflatten(output_tensors)[\n\u001b[1;32m   1446\u001b[0m     \u001b[38;5;241m0\u001b[39m\n\u001b[1;32m   1447\u001b[0m ]\u001b[38;5;241m.\u001b[39m_keras_history\u001b[38;5;241m.\u001b[39mnode_index\n",
      "\u001b[0;31mTypeError\u001b[0m: 'str' object is not callable"
     ]
    }
   ],
   "source": [
    "from tensorflow.keras.models import load_model\n",
    "\n",
    "# Define the file path (adjust if necessary)\n",
    "model_path = 'final_model_unet.keras'\n",
    "\n",
    "# Load the model with custom objects\n",
    "model = load_model(model_path, custom_objects={\n",
    "    'dice_coefficient': 0.8234,\n",
    "    'iou_metric': 0.7008\n",
    "})\n",
    "\n",
    "print(\"Model loaded successfully!\")"
   ]
  },
  {
   "cell_type": "code",
   "execution_count": 18,
   "metadata": {},
   "outputs": [],
   "source": [
    "def preprocess_image(file_path, image_dim=(128, 128)):\n",
    "    \"\"\"\n",
    "    Loads and preprocesses an image and its corresponding mask from an h5 file.\n",
    "    \"\"\"\n",
    "    with h5py.File(file_path, 'r') as hf:\n",
    "        # Check for 'image' and 'mask' keys\n",
    "        if 'image' in hf.keys() and 'mask' in hf.keys():\n",
    "            image = hf['image'][:]  # Shape: (H, W, 4)\n",
    "            mask = hf['mask'][:]    # Shape: (H, W)\n",
    "        else:\n",
    "            raise KeyError(f\"Unexpected keys in {file_path}: {list(hf.keys())}\")\n",
    "\n",
    "        # Print mask statistics for debugging\n",
    "        print(f\"Mask stats for {file_path}: min={mask.min()}, max={mask.max()}, mean={mask.mean()}\")\n",
    "\n",
    "        # Resize the image and mask to match the model's input dimensions\n",
    "        if image.shape[:2] != image_dim:\n",
    "            image = resize(image, (*image_dim, image.shape[2]), preserve_range=True, anti_aliasing=True)\n",
    "        if mask.shape[:2] != image_dim:\n",
    "            mask = resize(mask, image_dim, preserve_range=True, order=0, anti_aliasing=False)\n",
    "\n",
    "        # Normalize the image\n",
    "        image_max = np.max(image)\n",
    "        if image_max > 0:\n",
    "            image = image.astype('float32') / image_max\n",
    "\n",
    "        # Normalize the mask to range [0, 1] for visualization\n",
    "        mask = np.expand_dims((mask - mask.min()) / (mask.max() - mask.min() + 1e-8), axis=-1)\n",
    "\n",
    "    return image, mask\n"
   ]
  },
  {
   "cell_type": "code",
   "execution_count": 19,
   "metadata": {},
   "outputs": [
    {
     "name": "stdout",
     "output_type": "stream",
     "text": [
      "Mask stats for brats2020/content/data/volume_106_slice_100.h5: min=0, max=1, mean=0.014253472222222223\n",
      "1/1 [==============================] - 0s 258ms/step\n"
     ]
    },
    {
     "data": {
      "image/png": "[encoded data removed]",
      "text/plain": [
       "<Figure size 1200x600 with 3 Axes>"
      ]
     },
     "metadata": {},
     "output_type": "display_data"
    }
   ],
   "source": [
    "import h5py\n",
    "import numpy as np\n",
    "import matplotlib.pyplot as plt\n",
    "from skimage.transform import resize\n",
    "\n",
    "# -------------------------------\n",
    "# Visualize Predictions\n",
    "# -------------------------------\n",
    "def predict_and_visualize(file_paths, model, image_dim=(128, 128)):\n",
    "    \"\"\"\n",
    "    Loads and preprocesses images from file paths, predicts their outputs, and visualizes results.\n",
    "    \"\"\"\n",
    "    for i, file_path in enumerate(file_paths):\n",
    "        # Load and preprocess the image and mask\n",
    "        image, true_mask = preprocess_image(file_path, image_dim)\n",
    "\n",
    "        # Predict the mask using the model\n",
    "        pred_mask = model.predict(np.expand_dims(image, axis=0))[0]  # Add batch dimension, then remove it\n",
    "\n",
    "        # Visualize the input image, true mask, and predicted mask\n",
    "        plt.figure(figsize=(12, 6))\n",
    "\n",
    "        # Original Input Image\n",
    "        plt.subplot(1, 3, 1)\n",
    "        plt.imshow(image[..., 0], cmap='gray')  # Display the first channel\n",
    "        plt.title('Input Image (Channel 0)')\n",
    "        plt.axis('off')\n",
    "\n",
    "        # True Mask\n",
    "        plt.subplot(1, 3, 2)\n",
    "        plt.imshow(true_mask.squeeze(), cmap='gray')  # Remove the channel dimension for display\n",
    "        plt.title('True Mask')\n",
    "        plt.axis('off')\n",
    "\n",
    "        # Predicted Mask\n",
    "        plt.subplot(1, 3, 3)\n",
    "        plt.imshow(pred_mask.squeeze(), cmap='gray')  # Remove the channel dimension for display\n",
    "        plt.title('Predicted Mask')\n",
    "        plt.axis('off')\n",
    "\n",
    "        # Show the plot directly\n",
    "        plt.show()\n",
    "\n",
    "# -------------------------------\n",
    "# Specify the File Paths\n",
    "# -------------------------------\n",
    "data_dir = 'brats2020/content/data'\n",
    "files_to_predict = [\n",
    "    \"brats2020/content/data/volume_106_slice_100.h5\"\n",
    "    \n",
    "]\n",
    "\n",
    "# -------------------------------\n",
    "# Predict and Visualize\n",
    "# -------------------------------\n",
    "predict_and_visualize(files_to_predict, model)"
   ]
  },
  {
   "cell_type": "code",
   "execution_count": 40,
   "metadata": {},
   "outputs": [],
   "source": [
    "!pip freeze > requirements.txt"
   ]
  },
  {
   "cell_type": "code",
   "execution_count": null,
   "metadata": {},
   "outputs": [],
   "source": []
  }
 ],
 "metadata": {
  "kaggle": {
   "accelerator": "gpu",
   "dataSources": [
    {
     "datasetId": 723383,
     "sourceId": 1267593,
     "sourceType": "datasetVersion"
    }
   ],
   "dockerImageVersionId": 30887,
   "isGpuEnabled": true,
   "isInternetEnabled": true,
   "language": "python",
   "sourceType": "notebook"
  },
  "kernelspec": {
   "display_name": "Python 3 (ipykernel)",
   "language": "python",
   "name": "python3"
  },
  "language_info": {
   "codemirror_mode": {
    "name": "ipython",
    "version": 3
   },
   "file_extension": ".py",
   "mimetype": "text/x-python",
   "name": "python",
   "nbconvert_exporter": "python",
   "pygments_lexer": "ipython3",
   "version": "3.9.6"
  }
 },
 "nbformat": 4,
 "nbformat_minor": 4
}
